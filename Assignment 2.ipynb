{
 "cells": [
  {
   "cell_type": "code",
   "execution_count": 1,
   "id": "c59a7af4-53d8-40e5-a8a0-50eac0252042",
   "metadata": {},
   "outputs": [],
   "source": [
    "import torch\n",
    "import json"
   ]
  },
  {
   "cell_type": "code",
   "execution_count": 2,
   "id": "456e9906-a1dc-41de-962f-b4728b9b18a5",
   "metadata": {},
   "outputs": [],
   "source": [
    "TRAIN_DEV_SPLIT = 50000\n",
    "\n",
    "# LOAD DATA\n",
    "train = []\n",
    "test = []\n",
    "\n",
    "with open('mnist_rowmajor.jsonl') as file:\n",
    "    for line in file:\n",
    "        data = json.loads(line)\n",
    "        \n",
    "        img = torch.tensor(data['image'])\n",
    "        label = data['label']\n",
    "        \n",
    "        if data['split'] == 'train':\n",
    "            train.append((img, label))\n",
    "        else:\n",
    "            test.append((img, label))\n",
    "\n",
    "int_train = train[:TRAIN_DEV_SPLIT]\n",
    "int_dev = train[TRAIN_DEV_SPLIT:]"
   ]
  },
  {
   "cell_type": "markdown",
   "id": "52f99f6d-a7d5-41e5-8429-8fd83463cbb0",
   "metadata": {},
   "source": [
    "## Question 3"
   ]
  },
  {
   "cell_type": "code",
   "execution_count": 3,
   "id": "b922fdbe-144f-4517-bc7a-c179fa0b011a",
   "metadata": {},
   "outputs": [
    {
     "name": "stdout",
     "output_type": "stream",
     "text": [
      "Accuracy 11.47%\n"
     ]
    }
   ],
   "source": [
    "# Q3: most frequent baseline classifier\n",
    "class BaselineClassifier:\n",
    "    def __init__(self):\n",
    "        self.label_count = torch.zeros(10)\n",
    "\n",
    "    def forward(self, x):\n",
    "        return torch.argmax(self.label_count)\n",
    "\n",
    "    def train(self, x, y):\n",
    "        self.label_count[y].add_(1)\n",
    "\n",
    "model = BaselineClassifier()\n",
    "\n",
    "# train model\n",
    "for x, y in int_train:\n",
    "    model.train(x, y)\n",
    "\n",
    "# eval model\n",
    "score = 0.0\n",
    "for x, y in int_dev:\n",
    "    y_pred = model.forward(x)\n",
    "    score += y_pred == y\n",
    "\n",
    "# print accuracy\n",
    "accuracy = 100*(score/len(int_dev))\n",
    "print(\"Accuracy {:.2f}%\".format(accuracy))"
   ]
  },
  {
   "cell_type": "markdown",
   "id": "59818713-6b43-4920-9d02-698698231cd4",
   "metadata": {},
   "source": [
    "## Question 4"
   ]
  },
  {
   "cell_type": "code",
   "execution_count": 4,
   "id": "44bd6bdc-48e4-41bd-81d2-9705017ab4ae",
   "metadata": {},
   "outputs": [
    {
     "name": "stdout",
     "output_type": "stream",
     "text": [
      "Accuracy 79.28%\n"
     ]
    }
   ],
   "source": [
    "# Q4: multiclass perceptron - no bias\n",
    "D = 784\n",
    "class MulticlassPerceptron:\n",
    "    def __init__(self):\n",
    "        self.w = torch.zeros(10, D)\n",
    "\n",
    "    def forward(self, x):\n",
    "        a = torch.zeros(10)\n",
    "        for i in range(0,10):\n",
    "            a[i] = torch.dot(self.w[i],x)\n",
    "        return torch.argmax(a)\n",
    "\n",
    "    def train(self, x, y):\n",
    "        y_pred = self.forward(x)\n",
    "        if y_pred != y:\n",
    "            self.w[y].add_(torch.mul(x, y))\n",
    "            self.w[y_pred].sub_(torch.mul(x, y))\n",
    "\n",
    "model = MulticlassPerceptron()\n",
    "\n",
    "# train model\n",
    "for x, y in int_train:\n",
    "    model.train(x, y)\n",
    "\n",
    "# eval model\n",
    "score = 0.0\n",
    "for x, y in int_dev:\n",
    "    y_pred = model.forward(x)\n",
    "    score += y_pred == y\n",
    "\n",
    "# print accuracy\n",
    "accuracy = 100*(score/len(int_dev))\n",
    "print(\"Accuracy {:.2f}%\".format(accuracy))"
   ]
  },
  {
   "cell_type": "code",
   "execution_count": 5,
   "id": "9a1be814-db87-47a6-b44a-eae149ca757e",
   "metadata": {},
   "outputs": [
    {
     "name": "stdout",
     "output_type": "stream",
     "text": [
      "Accuracy 80.06%\n"
     ]
    }
   ],
   "source": [
    "# Q4: multiclass perceptron - with bias\n",
    "D = 784\n",
    "class MulticlassPerceptron:\n",
    "    def __init__(self):\n",
    "        self.w = torch.zeros(10, D)\n",
    "        self.b = torch.zeros(10)\n",
    "\n",
    "    def forward(self, x):\n",
    "        a = torch.zeros(10)\n",
    "        for i in range(0,10):\n",
    "            a[i] = torch.dot(self.w[i],x) + self.b[i]\n",
    "        return torch.argmax(a)\n",
    "\n",
    "    def train(self, x, y):\n",
    "        y_pred = self.forward(x)\n",
    "        if y_pred != y:\n",
    "            self.w[y].add_(torch.mul(x, y))\n",
    "            self.w[y_pred].sub_(torch.mul(x, y))\n",
    "            self.b[y].add_(y)\n",
    "            self.b[y_pred].sub_(y)\n",
    "\n",
    "model = MulticlassPerceptron()\n",
    "\n",
    "# train model\n",
    "for x, y in int_train:\n",
    "    model.train(x, y)\n",
    "\n",
    "# eval model\n",
    "score = 0.0\n",
    "for x, y in int_dev:\n",
    "    y_pred = model.forward(x)\n",
    "    score += y_pred == y\n",
    "\n",
    "# print accuracy\n",
    "accuracy = 100*(score/len(int_dev))\n",
    "print(\"Accuracy {:.2f}%\".format(accuracy))"
   ]
  },
  {
   "cell_type": "code",
   "execution_count": 6,
   "id": "d6c744fb-0958-490d-80f0-a0f8a799c3e6",
   "metadata": {},
   "outputs": [
    {
     "name": "stdout",
     "output_type": "stream",
     "text": [
      "Accuracy 88.40%\n"
     ]
    }
   ],
   "source": [
    "# Q4: multiclass perceptron - using nn.MultiMarginLoss\n",
    "D = 784\n",
    "loss = torch.nn.MultiMarginLoss()\n",
    "class MulticlassPerceptron:\n",
    "    def __init__(self):\n",
    "        self.w = torch.zeros(10, D, requires_grad=True)\n",
    "\n",
    "    def forward(self, x):\n",
    "        a = torch.zeros(10)\n",
    "        for i in range(0,10):\n",
    "            a[i] = torch.dot(self.w[i],x)\n",
    "        return torch.argmax(a)\n",
    "\n",
    "    def train(self, x, y):\n",
    "        # forward step\n",
    "        a = torch.zeros(10)\n",
    "        for i in range(0,10):\n",
    "            a[i] = torch.dot(self.w[i],x)\n",
    "        y_pred = torch.argmax(a)\n",
    "        \n",
    "        # calculate loss\n",
    "        l = loss(a, torch.tensor(y))\n",
    "        \n",
    "        # calculate grad\n",
    "        l.backward()\n",
    "        \n",
    "        # update weights\n",
    "        with torch.no_grad():\n",
    "            self.w.sub_(self.w.grad)\n",
    "            \n",
    "        # reset gradient\n",
    "        self.w.grad.zero_()\n",
    "\n",
    "model = MulticlassPerceptron()\n",
    "\n",
    "# train model\n",
    "for x, y in int_train:\n",
    "    model.train(x, y)\n",
    "\n",
    "# eval model\n",
    "score = 0.0\n",
    "for x, y in int_dev:\n",
    "    y_pred = model.forward(x)\n",
    "    score += y_pred == y\n",
    "\n",
    "# print accuracy\n",
    "accuracy = 100*(score/len(int_dev))\n",
    "print(\"Accuracy {:.2f}%\".format(accuracy))"
   ]
  },
  {
   "cell_type": "markdown",
   "id": "e1944d8f-5b9a-469f-908a-4b9185b0f111",
   "metadata": {},
   "source": [
    "## Question 5"
   ]
  },
  {
   "cell_type": "code",
   "execution_count": 7,
   "id": "fdbad9b7-9b8f-4956-a0a7-11c79b2ed643",
   "metadata": {},
   "outputs": [
    {
     "name": "stdout",
     "output_type": "stream",
     "text": [
      "Accuracy 11.35%\n"
     ]
    }
   ],
   "source": [
    "# Q5: most frequent baseline classifier\n",
    "class BaselineClassifier:\n",
    "    def __init__(self):\n",
    "        self.label_count = torch.zeros(10)\n",
    "\n",
    "    def forward(self, x):\n",
    "        return torch.argmax(self.label_count)\n",
    "\n",
    "    def train(self, x, y):\n",
    "        self.label_count[y].add_(1)\n",
    "\n",
    "model = BaselineClassifier()\n",
    "\n",
    "# train model\n",
    "for x, y in train:\n",
    "    model.train(x, y)\n",
    "\n",
    "# eval model\n",
    "score = 0.0\n",
    "for x, y in test:\n",
    "    y_pred = model.forward(x)\n",
    "    score += y_pred == y\n",
    "\n",
    "# print accuracy\n",
    "accuracy = 100*(score/len(test))\n",
    "print(\"Accuracy {:.2f}%\".format(accuracy))"
   ]
  },
  {
   "cell_type": "code",
   "execution_count": 8,
   "id": "fcef6aff-c9b6-4dd5-a2e2-0f88a7dbdcc6",
   "metadata": {},
   "outputs": [
    {
     "name": "stdout",
     "output_type": "stream",
     "text": [
      "Accuracy 86.29%\n"
     ]
    }
   ],
   "source": [
    "# Q5: multiclass perceptron - using nn.MultiMarginLoss\n",
    "D = 784\n",
    "loss = torch.nn.MultiMarginLoss()\n",
    "class MulticlassPerceptron:\n",
    "    def __init__(self):\n",
    "        self.w = torch.zeros(10, D, requires_grad=True)\n",
    "\n",
    "    def forward(self, x):\n",
    "        a = torch.zeros(10)\n",
    "        for i in range(0,10):\n",
    "            a[i] = torch.dot(self.w[i],x)\n",
    "        return torch.argmax(a)\n",
    "\n",
    "    def train(self, x, y):\n",
    "        # forward step\n",
    "        a = torch.zeros(10)\n",
    "        for i in range(0,10):\n",
    "            a[i] = torch.dot(self.w[i],x)\n",
    "        y_pred = torch.argmax(a)\n",
    "        \n",
    "        # calculate loss\n",
    "        l = loss(a, torch.tensor(y))\n",
    "        \n",
    "        # calculate grad\n",
    "        l.backward()\n",
    "        \n",
    "        # update weights\n",
    "        with torch.no_grad():\n",
    "            self.w.sub_(self.w.grad)\n",
    "            \n",
    "        # reset gradient\n",
    "        self.w.grad.zero_()\n",
    "\n",
    "model = MulticlassPerceptron()\n",
    "\n",
    "# train model\n",
    "for x, y in train:\n",
    "    model.train(x, y)\n",
    "\n",
    "# eval model\n",
    "score = 0.0\n",
    "for x, y in test:\n",
    "    y_pred = model.forward(x)\n",
    "    score += y_pred == y\n",
    "\n",
    "# print accuracy\n",
    "accuracy = 100*(score/len(test))\n",
    "print(\"Accuracy {:.2f}%\".format(accuracy))"
   ]
  },
  {
   "cell_type": "markdown",
   "id": "f2ac4501-bcea-4b74-abc9-af02692f3999",
   "metadata": {},
   "source": [
    "## Verification"
   ]
  },
  {
   "cell_type": "code",
   "execution_count": 9,
   "id": "f1384363-51dc-45f8-978b-0f5101b4cc89",
   "metadata": {},
   "outputs": [
    {
     "name": "stdout",
     "output_type": "stream",
     "text": [
      "   weights       a   y_pred \n",
      "  [0.0, 0.0]    0.0    -1   \n",
      " [-1.0, 1.0]    0.0    -1   \n",
      " [-1.0, 1.0]    0.0    -1   \n",
      " [-0.5, 1.5]   -2.0    -1   \n",
      "  [0.5, 0.5]   -0.25   -1   \n",
      "  [0.5, 0.5]    0.0    -1   \n",
      " [-0.5, 1.5]   -1.0    -1   \n",
      " [-0.5, 1.5]    0.5     1   \n",
      " [-0.5, 1.5]   -2.0    -1   \n",
      "  [0.5, 0.5]   -0.25   -1   \n"
     ]
    }
   ],
   "source": [
    "# binary perceptron to test correctness\n",
    "class BinaryPerceptron:\n",
    "    def __init__(self):\n",
    "        self.w = torch.zeros(2)\n",
    "\n",
    "    def forward(self, x):\n",
    "        self.a = torch.dot(self.w,x)\n",
    "        return 1 if self.a > 0 else -1\n",
    "\n",
    "    def train(self, x, y):\n",
    "        y_pred = self.forward(x)\n",
    "        print(\"{:^14}{:^7}{:^7}\".format( str(self.w.tolist()), self.a, y_pred, ))\n",
    "        if y_pred != y:\n",
    "            self.w.add_(torch.mul(x, y))\n",
    "        return y_pred\n",
    "\n",
    "model = BinaryPerceptron()\n",
    "# X = [(-1,1) (-1,-1) (0.5,0.5) (1,-1) (0.5,-1]]\n",
    "X = torch.tensor([\n",
    "    [-1,1],\n",
    "    [-1,-1],\n",
    "    [0.5,0.5],\n",
    "    [1,-1],\n",
    "    [0.5,-1]\n",
    "])\n",
    "Y = torch.tensor([1,-1,1,1,-1])\n",
    "\n",
    "print(\"{:^14}{:^7}{:^7}\".format( \"weights\", \"a\", \"y_pred\"))\n",
    "for i in range(10):\n",
    "    y_pred = model.train(X[i%5],Y[i%5])"
   ]
  }
 ],
 "metadata": {
  "kernelspec": {
   "display_name": "Python 3 (ipykernel)",
   "language": "python",
   "name": "python3"
  },
  "language_info": {
   "codemirror_mode": {
    "name": "ipython",
    "version": 3
   },
   "file_extension": ".py",
   "mimetype": "text/x-python",
   "name": "python",
   "nbconvert_exporter": "python",
   "pygments_lexer": "ipython3",
   "version": "3.11.9"
  }
 },
 "nbformat": 4,
 "nbformat_minor": 5
}
